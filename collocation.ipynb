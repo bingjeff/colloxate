{
 "cells": [
  {
   "cell_type": "code",
   "execution_count": 1,
   "metadata": {},
   "outputs": [],
   "source": [
    "import jax.numpy as jnp\n",
    "import numpy as np\n",
    "\n",
    "import jax\n",
    "import urdf_loader"
   ]
  },
  {
   "cell_type": "code",
   "execution_count": 7,
   "metadata": {},
   "outputs": [
    {
     "data": {
      "text/plain": [
       "DeviceArray([6.0889960e-08, 1.4274991e-01, 9.5369828e-01, 9.9999988e-01,\n",
       "             0.0000000e+00, 4.3711388e-08, 1.3113416e-07], dtype=float32)"
      ]
     },
     "execution_count": 7,
     "metadata": {},
     "output_type": "execute_result"
    }
   ],
   "source": [
    "chain = urdf_loader.read_chain_from_urdf('data/kuka_iiwa.urdf', 'lbr_iiwa_link_0', 'lbr_iiwa_link_7')\n",
    "kinematics = urdf_loader.make_kinematic_chain_function(chain)\n",
    "kinematics_j = jax.jit(kinematics)\n",
    "zero_pose = jnp.array([0., 0., 0., 0., 0., 0., 0.])\n",
    "kinematics(zero_pose)"
   ]
  },
  {
   "cell_type": "code",
   "execution_count": 10,
   "metadata": {},
   "outputs": [],
   "source": [
    "joint_configurations = np.random.rand(100, 7)\n",
    "ans = jax.vmap(kinematics_j)(joint_configurations)"
   ]
  },
  {
   "cell_type": "code",
   "execution_count": 11,
   "metadata": {},
   "outputs": [
    {
     "name": "stdout",
     "output_type": "stream",
     "text": [
      "737 µs ± 24.8 µs per loop (mean ± std. dev. of 7 runs, 1000 loops each)\n"
     ]
    }
   ],
   "source": [
    "%timeit jax.vmap(kinematics_j)(joint_configurations)"
   ]
  },
  {
   "cell_type": "code",
   "execution_count": 12,
   "metadata": {},
   "outputs": [
    {
     "name": "stdout",
     "output_type": "stream",
     "text": [
      "985 ms ± 56.8 ms per loop (mean ± std. dev. of 7 runs, 1 loop each)\n"
     ]
    }
   ],
   "source": [
    "%timeit jax.vmap(kinematics)(joint_configurations)"
   ]
  },
  {
   "cell_type": "code",
   "execution_count": null,
   "metadata": {},
   "outputs": [],
   "source": [
    "%timeit kinematics_j(zero_pose)"
   ]
  },
  {
   "cell_type": "markdown",
   "metadata": {},
   "source": [
    "The problem that I nominally want to solve is:\n",
    "\n",
    "$$\n",
    "\\min_{x(t)} \\int_0^T L\\left(x(t), u(t)\\right)dt + \\Phi\\left(x(T)\\right) \\\\\n",
    "s.t. \\\\\n",
    "\\dot{x}(t) = f\\left(x(t), u(t)\\right)\\\\\n",
    "x_l < x(t) < x_u\n",
    "$$"
   ]
  },
  {
   "cell_type": "markdown",
   "metadata": {},
   "source": [
    "We can discretize the problem with $h=t_{k+1} - t_k$:\n",
    "\n",
    "$$\n",
    "\\min_{\\hat{x}, \\hat{u}} \\sum_k^{N-1} \\frac{h}{2}\\left(L_{k+1} + L_k\\right) + \\Phi\\left(x_N\\right)\n",
    " \\\\\n",
    "s.t.\\\\\n",
    "x_c = \\left(\\frac{1}{2}\\left(x_{k+1} + x_k\\right) - \\frac{h}{8}\\left(f_{k+1} - f_k\\right)\\right) \\\\\n",
    "0 = \\frac{3}{2h}\\left(\\left(x_{k+1} - x_k\\right) - \\frac{h}{6}\\left(f_{k+1} + 4f_c + f_k\\right) \\right) \\\\\n",
    "x_l < x_k < x_u\n",
    "$$\n",
    "\n"
   ]
  },
  {
   "cell_type": "markdown",
   "metadata": {},
   "source": [
    "Including the equality constraint gives the following problem:\n",
    "\n",
    "$$\n",
    "\\min_{\\hat{x}, \\hat{u}, \\hat{\\lambda}} \\sum_k^{N-1} \\frac{h}{2}\\left(L_{k+1} + L_k\\right) + \\sum_k^{N-1} \\lambda_k \\left(\\left(x_{k+1} - x_k\\right) - \\frac{h}{6}\\left(f_{k+1} + 4f_c + f_k\\right) \\right)  + \\Phi\\left(x_N\\right)\n",
    " \\\\\n",
    "s.t.\\\\\n",
    "x_l < x_k < x_u\n",
    "$$"
   ]
  },
  {
   "cell_type": "markdown",
   "metadata": {},
   "source": [
    "The first-order conditions are then:\n",
    "$$\n",
    "\\frac{\\partial V}{\\partial x_0} = \n",
    "\\frac{h}{2}\\frac{\\partial L_0}{\\partial x_0} + \n",
    "\\lambda_0 \\left(-1 - \\frac{h}{6}\\left(4\\frac{\\partial f_c}{\\partial x_0} + \\frac{\\partial f_0}{\\partial x_0}\\right)\\right)\n",
    "$$\n",
    "\n",
    "$$\n",
    "\\frac{\\partial V}{\\partial x_{k+1}} = \n",
    "\\frac{h}{2}\\frac{\\partial L_{k+1}}{\\partial x_{k+1}} + \n",
    "\\lambda_{k+1} \\left(-1 - \\frac{h}{6}\\left(4\\frac{\\partial f_{c+1}}{\\partial x_{k+1}}+\\frac{\\partial f_{k+1}}{\\partial x_{k+1}}\\right)\\right)\n",
    "+\n",
    "\\frac{h}{2}\\frac{\\partial L_{k+1}}{\\partial x_{k+1}} + \n",
    "\\lambda_k \\left(1 - \\frac{h}{6}\\left(\\frac{\\partial f_{k+1}}{\\partial x_{k+1}} + 4\\frac{\\partial f_c}{\\partial x_{k+1}}\\right)\\right)\n",
    "$$\n",
    "\n",
    "$$\n",
    "\\frac{\\partial V}{\\partial x_N} = \\frac{\\partial \\Phi}{\\partial x_N}\n",
    "$$\n",
    "\n",
    "$$\n",
    "\\frac{\\partial V}{\\partial u_0} =  \n",
    "\\frac{h}{2}\\frac{\\partial L_0}{\\partial u_0} + \n",
    "\\lambda_0 \\left(- \\frac{h}{6}\\left(4\\frac{\\partial f_c}{\\partial u_0} + \\frac{\\partial f_0}{\\partial u_0}\\right)\\right)\n",
    "$$\n",
    "\n",
    "$$\n",
    "\\frac{\\partial V}{\\partial u_{k+1}} = \n",
    "\\frac{h}{2}\\frac{\\partial L_{k+1}}{\\partial u_{k+1}} + \n",
    "\\lambda_{k+1} \\left(- \\frac{h}{6}\\left(4\\frac{\\partial f_{c+1}}{\\partial u_{k+1}}+\\frac{\\partial f_{k+1}}{\\partial u_{k+1}}\\right)\\right)\n",
    "+\n",
    "\\frac{h}{2}\\frac{\\partial L_{k+1}}{\\partial u_{k+1}} + \n",
    "\\lambda_k \\left(- \\frac{h}{6}\\left(\\frac{\\partial f_{k+1}}{\\partial u_{k+1}} + 4\\frac{\\partial f_c}{\\partial u_{k+1}}\\right)\\right)\n",
    "$$\n",
    "\n",
    "$$\n",
    "\\frac{\\partial V}{\\partial \\lambda_k} = \\left(x_{k+1} - x_k\\right) - \\frac{h}{6}\\left(f_{k+1} + 4f_c + f_k\\right)\n",
    "$$"
   ]
  },
  {
   "cell_type": "code",
   "execution_count": null,
   "metadata": {},
   "outputs": [],
   "source": [
    "Plan is to just take the hamiltonian\n",
    "and discretize it temporaly, then use the magic of "
   ]
  }
 ],
 "metadata": {
  "kernelspec": {
   "display_name": "Python 3",
   "language": "python",
   "name": "python3"
  },
  "language_info": {
   "codemirror_mode": {
    "name": "ipython",
    "version": 3
   },
   "file_extension": ".py",
   "mimetype": "text/x-python",
   "name": "python",
   "nbconvert_exporter": "python",
   "pygments_lexer": "ipython3",
   "version": "3.7.3"
  }
 },
 "nbformat": 4,
 "nbformat_minor": 4
}
