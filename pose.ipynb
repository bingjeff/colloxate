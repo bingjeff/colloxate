{
 "cells": [
  {
   "cell_type": "code",
   "execution_count": 1,
   "metadata": {},
   "outputs": [],
   "source": [
    "import jax.numpy as jnp\n",
    "import numpy as np\n",
    "\n",
    "import jax"
   ]
  },
  {
   "cell_type": "code",
   "execution_count": 3,
   "metadata": {},
   "outputs": [
    {
     "name": "stdout",
     "output_type": "stream",
     "text": [
      "1\n",
      "2\n",
      "3\n"
     ]
    }
   ],
   "source": [
    "t = jnp.array([1, 2, 3])\n",
    "x, y, z = t\n",
    "print x\n",
    "print y\n",
    "print z"
   ]
  },
  {
   "cell_type": "code",
   "execution_count": 4,
   "metadata": {},
   "outputs": [],
   "source": [
    "def make_pose(translation, rotation, axis):\n",
    "    cq = jnp.cos(0.5 * rotation)\n",
    "    sq = jnp.sin(0.5 * rotation)\n",
    "    return jnp.array([translation[0], translation[1], translation[2], cq, sq * axis[0], sq * axis[1], sq * axis[2]])\n",
    "\n",
    "def multiply(p_left, p_right):\n",
    "    ltx, lty, ltz, lqw, lqx, lqy, lqz = p_left\n",
    "    rtx, rty, rtz, rqw, rqx, rqy, rqz = p_right\n",
    "    tw = -lqx*rtx - lqy*rty - lqz*rtz\n",
    "    tx = lqw*rtx + lqy*rtz - lqz*rty\n",
    "    ty = lqw*rty - lqx*rtz + lqz*rtx\n",
    "    tz = lqw*rtz + lqx*rty - lqy*rtx\n",
    "    \n",
    "    tx =-tw*lqx + tx*lqw - ty*lqz + tz*lqy + ltx\n",
    "    ty =-tw*lqy + tx*lqz + ty*lqw - tz*lqx + lty\n",
    "    tz =-tw*lqz - tx*lqy + ty*lqx + tz*lqw + ltz\n",
    "    \n",
    "    qw = lqw*rqw - lqx*rqx - lqy*rqy - lqz*rqz\n",
    "    qx = lqw*rqx + lqx*rqw + lqy*rqz - lqz*rqy\n",
    "    qy = lqw*rqy - lqx*rqz + lqy*rqw + lqz*rqx\n",
    "    qz = lqw*rqz + lqx*rqy - lqy*rqx + lqz*rqw\n",
    "    return jnp.array([tx, ty, tz, qw, qx, qy, qz])"
   ]
  },
  {
   "cell_type": "code",
   "execution_count": 5,
   "metadata": {},
   "outputs": [
    {
     "data": {
      "text/plain": [
       "DeviceArray([0.03840585, 0.32439619, 0.30000001, 0.99023253, 0.03516405,\n",
       "             0.00352817, 0.1348727 ], dtype=float32)"
      ]
     },
     "execution_count": 5,
     "metadata": {},
     "output_type": "execute_result"
    }
   ],
   "source": [
    "def SmallTree(q):\n",
    "    t0 = make_pose([q[0], 0, 0], 0, [1, 0, 0])\n",
    "    r0 = make_pose([0, 0, 0], q[1], [0, 0, 1])\n",
    "    t1 = make_pose([0, q[2], q[2]], 0, [1, 0, 0])\n",
    "    m = 0.5 * np.sqrt(2.)\n",
    "    r2 = make_pose([0, 0, 0], q[3], [m, 0, m])\n",
    "\n",
    "    p0 = multiply(r0, t0)\n",
    "    p1 = multiply(p0, t1)\n",
    "    p2 = multiply(p1, r2)\n",
    "    return p2\n",
    "\n",
    "v = [0.1, 0.2, 0.3, 0.1]\n",
    "SmallTree(v)"
   ]
  },
  {
   "cell_type": "code",
   "execution_count": 29,
   "metadata": {},
   "outputs": [
    {
     "data": {
      "text/plain": [
       "DeviceArray([[0.03840585, 0.32439619, 0.30000001, 0.99023253, 0.03516405,\n",
       "              0.00352817, 0.1348727 ],\n",
       "             [0.03840585, 0.32439619, 0.30000001, 0.99023253, 0.03516405,\n",
       "              0.00352817, 0.1348727 ],\n",
       "             [0.03840585, 0.32439619, 0.30000001, 0.99023253, 0.03516405,\n",
       "              0.00352817, 0.1348727 ]], dtype=float32)"
      ]
     },
     "execution_count": 29,
     "metadata": {},
     "output_type": "execute_result"
    }
   ],
   "source": [
    "jax.vmap(SmallTree)(jnp.array([v,v,v]))"
   ]
  },
  {
   "cell_type": "code",
   "execution_count": 8,
   "metadata": {},
   "outputs": [
    {
     "data": {
      "text/plain": [
       "(4, 7)"
      ]
     },
     "execution_count": 8,
     "metadata": {},
     "output_type": "execute_result"
    }
   ],
   "source": [
    "m = jax.jit(jax.jacobian(SmallTree))(v)\n",
    "np.array(m).shape"
   ]
  },
  {
   "cell_type": "code",
   "execution_count": null,
   "metadata": {},
   "outputs": [],
   "source": []
  }
 ],
 "metadata": {
  "kernelspec": {
   "display_name": "Python 2",
   "language": "python",
   "name": "python2"
  },
  "language_info": {
   "codemirror_mode": {
    "name": "ipython",
    "version": 2
   },
   "file_extension": ".py",
   "mimetype": "text/x-python",
   "name": "python",
   "nbconvert_exporter": "python",
   "pygments_lexer": "ipython2",
   "version": "2.7.13"
  }
 },
 "nbformat": 4,
 "nbformat_minor": 2
}
