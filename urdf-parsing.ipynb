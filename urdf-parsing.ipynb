{
 "cells": [
  {
   "cell_type": "code",
   "execution_count": 9,
   "metadata": {},
   "outputs": [],
   "source": [
    "from xml.etree import ElementTree as element_tree"
   ]
  },
  {
   "cell_type": "code",
   "execution_count": 64,
   "metadata": {},
   "outputs": [],
   "source": [
    "import pdb"
   ]
  },
  {
   "cell_type": "code",
   "execution_count": 98,
   "metadata": {},
   "outputs": [],
   "source": [
    "import numpy as jnp"
   ]
  },
  {
   "cell_type": "code",
   "execution_count": 4,
   "metadata": {},
   "outputs": [],
   "source": [
    "urdf_path = 'data/kuka_iiwa.urdf'"
   ]
  },
  {
   "cell_type": "code",
   "execution_count": 10,
   "metadata": {},
   "outputs": [],
   "source": [
    "with open(urdf_path, 'r') as f:\n",
    "    urdf_string = f.read()\n",
    "\n",
    "urdf_root =  element_tree.fromstring(urdf_string)"
   ]
  },
  {
   "cell_type": "code",
   "execution_count": 96,
   "metadata": {},
   "outputs": [],
   "source": [
    "def GetLinkMap(joint_nodes, link_reference):\n",
    "    link_map = {}\n",
    "    for joint_node in joint_nodes:\n",
    "        link_name = joint_node.find(link_reference).get('link')\n",
    "        if link_name in link_map:\n",
    "            link_map[link_name].append(joint_node)\n",
    "        else:\n",
    "            link_map[link_name] = [joint_node]\n",
    "    return link_map\n",
    "\n",
    "def GetJointChains(parent_link_map, child_link, list_of_chains=None):\n",
    "    old_chains = list_of_chains if list_of_chains else [[]]\n",
    "    new_chains = []\n",
    "    if child_link in parent_link_map:\n",
    "        for joint_node in parent_link_map[child_link]:\n",
    "            new_chains.extend(GetJointChains(parent_link_map,\n",
    "                                             joint_node.find('child').get('link'),\n",
    "                                             [oc + [joint_node] for oc in old_chains]))\n",
    "        return new_chains\n",
    "    else:\n",
    "        return old_chains\n",
    "            \n",
    "def GetAllChains(urdf_root):\n",
    "    joint_nodes = urdf_root.findall('joint')\n",
    "\n",
    "    child_link_map = GetLinkMap(joint_nodes, 'child')\n",
    "    parent_link_map = GetLinkMap(joint_nodes, 'parent')\n",
    "\n",
    "    parent_link_set = set([v for v in parent_link_map])\n",
    "    child_link_set = set([v for v in child_link_map])\n",
    "\n",
    "    root_links = list(parent_link_set.difference(child_link_set))\n",
    "\n",
    "    return [jc for root_link in root_links for jc in GetJointChains(parent_link_map, root_link)]\n",
    "\n",
    "def ParseStringToNumericList(vec_string):\n",
    "    return [float(x) for x in vec_string.split(' ')]"
   ]
  },
  {
   "cell_type": "code",
   "execution_count": 99,
   "metadata": {},
   "outputs": [],
   "source": [
    "def MakePose(translation, rotation, axis):\n",
    "    cq = jnp.cos(0.5 * rotation)\n",
    "    sq = jnp.sin(0.5 * rotation)\n",
    "    return jnp.array([translation[0], translation[1], translation[2], cq, sq * axis[0], sq * axis[1], sq * axis[2]])\n",
    "\n",
    "def MultiplyPoses(p_left, p_right):\n",
    "    ltx, lty, ltz, lqw, lqx, lqy, lqz = p_left\n",
    "    rtx, rty, rtz, rqw, rqx, rqy, rqz = p_right\n",
    "    tw = -lqx*rtx - lqy*rty - lqz*rtz\n",
    "    tx = lqw*rtx + lqy*rtz - lqz*rty\n",
    "    ty = lqw*rty - lqx*rtz + lqz*rtx\n",
    "    tz = lqw*rtz + lqx*rty - lqy*rtx\n",
    "    \n",
    "    tx =-tw*lqx + tx*lqw - ty*lqz + tz*lqy + ltx\n",
    "    ty =-tw*lqy + tx*lqz + ty*lqw - tz*lqx + lty\n",
    "    tz =-tw*lqz - tx*lqy + ty*lqx + tz*lqw + ltz\n",
    "    \n",
    "    qw = lqw*rqw - lqx*rqx - lqy*rqy - lqz*rqz\n",
    "    qx = lqw*rqx + lqx*rqw + lqy*rqz - lqz*rqy\n",
    "    qy = lqw*rqy - lqx*rqz + lqy*rqw + lqz*rqx\n",
    "    qz = lqw*rqz + lqx*rqy - lqy*rqx + lqz*rqw\n",
    "    return jnp.array([tx, ty, tz, qw, qx, qy, qz])\n",
    "\n",
    "def MakeRpyXyzPose(rpy, xyz):\n",
    "    yaw = MakePose(xyz, rpy[2], [0.0, 0.0, 1.0])\n",
    "    pitch = MakePose([0., 0., 0.], rpy[1], [0.0, 1.0, 0.0])\n",
    "    roll = MakePose([0., 0., 0.], rpy[0], [1.0, 0.0, 0.0])\n",
    "    return MultiplyPoses(MultiplyPoses(yaw, pitch), roll)"
   ]
  },
  {
   "cell_type": "code",
   "execution_count": null,
   "metadata": {},
   "outputs": [],
   "source": [
    "def ExtractOriginPose(joint_node):\n",
    "    origin = joint_node.find('origin')\n",
    "    if origin:\n",
    "        xyz = ParseStringToNumericList(origin.get('xyz'))\n",
    "        rpy = ParseStringToNumericList(origin.get('rpy'))\n",
    "        return MakeRpyXyzPose(rpy, xyz)\n",
    "    else:\n",
    "        return jnp.zeros(7)\n",
    "\n",
    "def ExtractAxisFunction(joint_node):\n",
    "    xyz = ParseStringToNumericList(joint_node.find('axis').get('xyz'))\n",
    "    return lambda rotation: MakePose([0., 0., 0.], rotation, xyz)"
   ]
  },
  {
   "cell_type": "code",
   "execution_count": 83,
   "metadata": {},
   "outputs": [],
   "source": [
    "joint_nodes = urdf_root.findall('joint')\n",
    "link_nodes = urdf_root.findall('link')\n",
    "\n",
    "joint_dict = {n.get('name'): n for n in joint_nodes}\n",
    "link_dict = {n.get('name'): n for n in link_nodes}\n"
   ]
  },
  {
   "cell_type": "code",
   "execution_count": 81,
   "metadata": {},
   "outputs": [],
   "source": [
    "# Get a joint chain.\n",
    "joint_chains = GetAllChains(urdf_root)\n",
    "joint_chain = joint_chains[0]"
   ]
  },
  {
   "cell_type": "code",
   "execution_count": 82,
   "metadata": {},
   "outputs": [
    {
     "data": {
      "text/plain": [
       "['lbr_iiwa_joint_1',\n",
       " 'lbr_iiwa_joint_2',\n",
       " 'lbr_iiwa_joint_3',\n",
       " 'lbr_iiwa_joint_4',\n",
       " 'lbr_iiwa_joint_5',\n",
       " 'lbr_iiwa_joint_6',\n",
       " 'lbr_iiwa_joint_7']"
      ]
     },
     "execution_count": 82,
     "metadata": {},
     "output_type": "execute_result"
    }
   ],
   "source": [
    "[j.get('name') for j in joint_chain]"
   ]
  },
  {
   "cell_type": "code",
   "execution_count": 87,
   "metadata": {},
   "outputs": [
    {
     "name": "stdout",
     "output_type": "stream",
     "text": [
      "['type', 'name']\n"
     ]
    },
    {
     "data": {
      "text/plain": [
       "[<Element 'parent' at 0x7cc574f1f750>,\n",
       " <Element 'child' at 0x7cc574f1f790>,\n",
       " <Element 'origin' at 0x7cc574f1f710>,\n",
       " <Element 'axis' at 0x7cc574f1f7d0>,\n",
       " <Element 'limit' at 0x7cc574f1f850>,\n",
       " <Element 'dynamics' at 0x7cc574f1f810>]"
      ]
     },
     "execution_count": 87,
     "metadata": {},
     "output_type": "execute_result"
    }
   ],
   "source": [
    "node = joint_chain[0]\n",
    "print(node.keys())\n",
    "list(node)"
   ]
  },
  {
   "cell_type": "code",
   "execution_count": 95,
   "metadata": {},
   "outputs": [
    {
     "data": {
      "text/plain": [
       "[0.0, 0.0, 0.1575]"
      ]
     },
     "execution_count": 95,
     "metadata": {},
     "output_type": "execute_result"
    }
   ],
   "source": [
    "ParseStringToVector(node.find('origin').get('xyz'))"
   ]
  },
  {
   "cell_type": "code",
   "execution_count": 101,
   "metadata": {},
   "outputs": [
    {
     "data": {
      "text/plain": [
       "['xyz']"
      ]
     },
     "execution_count": 101,
     "metadata": {},
     "output_type": "execute_result"
    }
   ],
   "source": [
    "node.find('axis').keys()"
   ]
  }
 ],
 "metadata": {
  "kernelspec": {
   "display_name": "Python 2",
   "language": "python",
   "name": "python2"
  },
  "language_info": {
   "codemirror_mode": {
    "name": "ipython",
    "version": 2
   },
   "file_extension": ".py",
   "mimetype": "text/x-python",
   "name": "python",
   "nbconvert_exporter": "python",
   "pygments_lexer": "ipython2",
   "version": "2.7.13"
  }
 },
 "nbformat": 4,
 "nbformat_minor": 2
}
