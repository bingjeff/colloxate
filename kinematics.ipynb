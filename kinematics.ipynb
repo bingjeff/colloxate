{
 "cells": [
  {
   "cell_type": "code",
   "execution_count": 1,
   "metadata": {},
   "outputs": [],
   "source": [
    "import jax.numpy as jnp\n",
    "import numpy as np\n",
    "\n",
    "import jax"
   ]
  },
  {
   "cell_type": "code",
   "execution_count": 2,
   "metadata": {},
   "outputs": [],
   "source": [
    "def rotationX(q):\n",
    "    cq = jnp.cos(q)\n",
    "    sq = jnp.sin(q)\n",
    "    m = jnp.array([\n",
    "        [1.0, 0.0, 0.0, 0.0],\n",
    "        [0.0, cq, -sq, 0.0],\n",
    "        [0.0, sq, cq, 0.0],\n",
    "        [0.0, 0.0, 0.0, 1.0],\n",
    "    ])\n",
    "    return m\n",
    "\n",
    "def rotationY(q):\n",
    "    cq = jnp.cos(q)\n",
    "    sq = jnp.sin(q)\n",
    "    m = jnp.array([\n",
    "        [cq, 0.0, sq, 0.0],\n",
    "        [0.0, 1.0, 0.0, 0.0],\n",
    "        [-sq, 0.0, cq, 0.0],\n",
    "        [0.0, 0.0, 0.0, 1.0],\n",
    "    ])\n",
    "    return m\n",
    "\n",
    "def rotationZ(q):\n",
    "    cq = jnp.cos(q)\n",
    "    sq = jnp.sin(q)\n",
    "    m = jnp.array([\n",
    "        [cq, -sq, 0.0, 0.0],\n",
    "        [sq, cq, 0.0, 0.0],\n",
    "        [0.0, 0.0, 1.0, 0.0],\n",
    "        [0.0, 0.0, 0.0, 1.0],\n",
    "    ])\n",
    "    return m\n",
    "\n",
    "def translationX(q):\n",
    "    m = jnp.array([\n",
    "        [1.0, 0.0, 0.0, q],\n",
    "        [0.0, 1.0, 0.0, 0.0],\n",
    "        [0.0, 0.0, 1.0, 0.0],\n",
    "        [0.0, 0.0, 0.0, 1.0],\n",
    "    ])\n",
    "    return m\n",
    "\n",
    "def translationY(q):\n",
    "    m = jnp.array([\n",
    "        [1.0, 0.0, 0.0, 0.0],\n",
    "        [0.0, 1.0, 0.0, q],\n",
    "        [0.0, 0.0, 1.0, 0.0],\n",
    "        [0.0, 0.0, 0.0, 1.0],\n",
    "    ])\n",
    "    return m\n",
    "\n",
    "def translationZ(q):\n",
    "    m = jnp.array([\n",
    "        [1.0, 0.0, 0.0, 0.0],\n",
    "        [0.0, 1.0, 0.0, 0.0],\n",
    "        [0.0, 0.0, 1.0, q],\n",
    "        [0.0, 0.0, 0.0, 1.0],\n",
    "    ])\n",
    "    return m"
   ]
  },
  {
   "cell_type": "code",
   "execution_count": 3,
   "metadata": {},
   "outputs": [],
   "source": [
    "parXparQ = jax.grad(rotationX)"
   ]
  },
  {
   "cell_type": "code",
   "execution_count": 4,
   "metadata": {},
   "outputs": [
    {
     "name": "stderr",
     "output_type": "stream",
     "text": [
      "/home/bingjeff/.local/share/virtualenvs/colloxate-od6_OEaQ/local/lib/python2.7/site-packages/jax/lib/xla_bridge.py:130: UserWarning: No GPU/TPU found, falling back to CPU.\n",
      "  warnings.warn('No GPU/TPU found, falling back to CPU.')\n"
     ]
    },
    {
     "data": {
      "text/plain": [
       "DeviceArray([[ 1.,  0.,  0.,  0.],\n",
       "             [ 0.,  1., -0.,  0.],\n",
       "             [ 0.,  0.,  1.,  0.],\n",
       "             [ 0.,  0.,  0.,  1.]], dtype=float32)"
      ]
     },
     "execution_count": 4,
     "metadata": {},
     "output_type": "execute_result"
    }
   ],
   "source": [
    "rotationX(0.)"
   ]
  },
  {
   "cell_type": "code",
   "execution_count": 5,
   "metadata": {},
   "outputs": [],
   "source": [
    "parXparQ = jax.jacobian(rotationX)"
   ]
  },
  {
   "cell_type": "code",
   "execution_count": 6,
   "metadata": {},
   "outputs": [
    {
     "data": {
      "text/plain": [
       "DeviceArray([[ 0.,  0.,  0.,  0.],\n",
       "             [ 0.,  0., -1.,  0.],\n",
       "             [ 0.,  1.,  0.,  0.],\n",
       "             [ 0.,  0.,  0.,  0.]], dtype=float32)"
      ]
     },
     "execution_count": 6,
     "metadata": {},
     "output_type": "execute_result"
    }
   ],
   "source": [
    "parXparQ(0.)"
   ]
  },
  {
   "cell_type": "code",
   "execution_count": 21,
   "metadata": {},
   "outputs": [],
   "source": [
    "x = lambda q: jnp.dot(rotationX(q[0]), translationY(q[1]))"
   ]
  },
  {
   "cell_type": "code",
   "execution_count": 22,
   "metadata": {},
   "outputs": [],
   "source": [
    "xv = jax.jit(x)"
   ]
  },
  {
   "cell_type": "code",
   "execution_count": 23,
   "metadata": {},
   "outputs": [
    {
     "data": {
      "text/plain": [
       "DeviceArray([[ 1.       ,  0.       ,  0.       ,  0.       ],\n",
       "             [ 0.       ,  0.0707372, -0.997495 ,  0.0707372],\n",
       "             [ 0.       ,  0.997495 ,  0.0707372,  0.997495 ],\n",
       "             [ 0.       ,  0.       ,  0.       ,  1.       ]],\n",
       "            dtype=float32)"
      ]
     },
     "execution_count": 23,
     "metadata": {},
     "output_type": "execute_result"
    }
   ],
   "source": [
    "xv([1.5, 1.0])"
   ]
  },
  {
   "cell_type": "code",
   "execution_count": 24,
   "metadata": {},
   "outputs": [],
   "source": [
    "dx = jax.jit(jax.jacobian(x))"
   ]
  },
  {
   "cell_type": "code",
   "execution_count": 25,
   "metadata": {},
   "outputs": [
    {
     "data": {
      "text/plain": [
       "[DeviceArray([[ 0.       ,  0.       ,  0.       ,  0.       ],\n",
       "              [ 0.       , -0.997495 , -0.0707372, -0.997495 ],\n",
       "              [ 0.       ,  0.0707372, -0.997495 ,  0.0707372],\n",
       "              [ 0.       ,  0.       ,  0.       ,  0.       ]],\n",
       "             dtype=float32),\n",
       " DeviceArray([[0.       , 0.       , 0.       , 0.       ],\n",
       "              [0.       , 0.       , 0.       , 0.0707372],\n",
       "              [0.       , 0.       , 0.       , 0.997495 ],\n",
       "              [0.       , 0.       , 0.       , 0.       ]], dtype=float32)]"
      ]
     },
     "execution_count": 25,
     "metadata": {},
     "output_type": "execute_result"
    }
   ],
   "source": [
    "dx([1.5, 1.])"
   ]
  },
  {
   "cell_type": "code",
   "execution_count": 28,
   "metadata": {},
   "outputs": [
    {
     "data": {
      "text/plain": [
       "(DeviceArray([[ 1.       ,  0.       ,  0.       ,  0.       ],\n",
       "              [ 0.       ,  0.0707372, -0.997495 ,  0.0707372],\n",
       "              [ 0.       ,  0.997495 ,  0.0707372,  0.997495 ],\n",
       "              [ 0.       ,  0.       ,  0.       ,  1.       ]],\n",
       "             dtype=float32),\n",
       " DeviceArray([[ 0.       ,  0.       ,  0.       ,  0.       ],\n",
       "              [ 0.       , -0.997495 , -0.0707372, -0.92675781],\n",
       "              [ 0.       ,  0.0707372, -0.997495 ,  1.06823218],\n",
       "              [ 0.       ,  0.       ,  0.       ,  0.       ]],\n",
       "             dtype=float32))"
      ]
     },
     "execution_count": 28,
     "metadata": {},
     "output_type": "execute_result"
    }
   ],
   "source": [
    "jax.jvp(x, ([1.5, 1.],), ([1.0, 1.0],))"
   ]
  },
  {
   "cell_type": "code",
   "execution_count": null,
   "metadata": {},
   "outputs": [],
   "source": []
  }
 ],
 "metadata": {
  "kernelspec": {
   "display_name": "Python 2",
   "language": "python",
   "name": "python2"
  },
  "language_info": {
   "codemirror_mode": {
    "name": "ipython",
    "version": 2
   },
   "file_extension": ".py",
   "mimetype": "text/x-python",
   "name": "python",
   "nbconvert_exporter": "python",
   "pygments_lexer": "ipython2",
   "version": "2.7.13"
  }
 },
 "nbformat": 4,
 "nbformat_minor": 2
}
